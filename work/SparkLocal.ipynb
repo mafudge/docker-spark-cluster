{
 "cells": [
  {
   "cell_type": "markdown",
   "id": "52a00136-185c-4c3b-b929-1d1236f18e48",
   "metadata": {},
   "source": [
    "# Spark in local mode\n",
    "\n",
    "- jobs run locally on the client\n",
    "- local files can be accessed\n",
    "- can also use hadoop or S3, but app processing on the local machine"
   ]
  },
  {
   "cell_type": "code",
   "execution_count": 2,
   "id": "3f570181-b539-4ab1-9334-0f30aa44abdb",
   "metadata": {},
   "outputs": [],
   "source": [
    "import pyspark\n",
    "from pyspark.sql import SparkSession\n",
    "# Spark init\n",
    "spark = SparkSession.builder \\\n",
    "    .master(\"local\") \\\n",
    "    .appName('jupyter-pyspark') \\\n",
    "    .getOrCreate()\n",
    "sc = spark.sparkContext\n",
    "sc.setLogLevel(\"ERROR\")"
   ]
  },
  {
   "cell_type": "code",
   "execution_count": 3,
   "id": "11a5262f-ded1-4179-8f57-0fb555d15710",
   "metadata": {},
   "outputs": [
    {
     "name": "stdout",
     "output_type": "stream",
     "text": [
      "Spark Context :  <SparkContext master=local appName=jupyter-pyspark>\n",
      "Spark Version :  3.5.0\n",
      "Spark appName : jupyter-pyspark\n",
      "Hadoop version:  3.3.4\n",
      "Spark Confiuration:\n",
      "\tspark.master = local\n",
      "\tspark.app.startTime = 1706758010705\n",
      "\tspark.app.id = local-1706758011222\n",
      "\tspark.executor.id = driver\n",
      "\tspark.driver.port = 44135\n",
      "\tspark.driver.host = 647d7ada86b0\n",
      "\tspark.driver.extraJavaOptions = -Djava.net.preferIPv6Addresses=false -XX:+IgnoreUnrecognizedVMOptions --add-opens=java.base/java.lang=ALL-UNNAMED --add-opens=java.base/java.lang.invoke=ALL-UNNAMED --add-opens=java.base/java.lang.reflect=ALL-UNNAMED --add-opens=java.base/java.io=ALL-UNNAMED --add-opens=java.base/java.net=ALL-UNNAMED --add-opens=java.base/java.nio=ALL-UNNAMED --add-opens=java.base/java.util=ALL-UNNAMED --add-opens=java.base/java.util.concurrent=ALL-UNNAMED --add-opens=java.base/java.util.concurrent.atomic=ALL-UNNAMED --add-opens=java.base/sun.nio.ch=ALL-UNNAMED --add-opens=java.base/sun.nio.cs=ALL-UNNAMED --add-opens=java.base/sun.security.action=ALL-UNNAMED --add-opens=java.base/sun.util.calendar=ALL-UNNAMED --add-opens=java.security.jgss/sun.security.krb5=ALL-UNNAMED -Djdk.reflect.useDirectMethodHandle=false\n",
      "\tspark.app.name = jupyter-pyspark\n",
      "\tspark.rdd.compress = True\n",
      "\tspark.serializer.objectStreamReset = 100\n",
      "\tspark.submit.pyFiles = \n",
      "\tspark.submit.deployMode = client\n",
      "\tspark.ui.showConsoleProgress = true\n",
      "\tspark.app.submitTime = 1706758010579\n",
      "\tspark.executor.extraJavaOptions = -Djava.net.preferIPv6Addresses=false -XX:+IgnoreUnrecognizedVMOptions --add-opens=java.base/java.lang=ALL-UNNAMED --add-opens=java.base/java.lang.invoke=ALL-UNNAMED --add-opens=java.base/java.lang.reflect=ALL-UNNAMED --add-opens=java.base/java.io=ALL-UNNAMED --add-opens=java.base/java.net=ALL-UNNAMED --add-opens=java.base/java.nio=ALL-UNNAMED --add-opens=java.base/java.util=ALL-UNNAMED --add-opens=java.base/java.util.concurrent=ALL-UNNAMED --add-opens=java.base/java.util.concurrent.atomic=ALL-UNNAMED --add-opens=java.base/sun.nio.ch=ALL-UNNAMED --add-opens=java.base/sun.nio.cs=ALL-UNNAMED --add-opens=java.base/sun.security.action=ALL-UNNAMED --add-opens=java.base/sun.util.calendar=ALL-UNNAMED --add-opens=java.security.jgss/sun.security.krb5=ALL-UNNAMED -Djdk.reflect.useDirectMethodHandle=false\n"
     ]
    }
   ],
   "source": [
    "print('Spark Context : ', spark.sparkContext)\n",
    "print('Spark Version : ', spark.sparkContext.version)\n",
    "print('Spark appName :', spark.sparkContext.appName)\n",
    "print('Hadoop version: ', spark.sparkContext._gateway.jvm.org.apache.hadoop.util.VersionInfo.getVersion())\n",
    "print('Spark Confiuration:')\n",
    "for conf in spark.sparkContext._conf.getAll():\n",
    "    print(f\"\\t{conf[0]} = {conf[1]}\")"
   ]
  },
  {
   "cell_type": "code",
   "execution_count": 6,
   "id": "32f4bea1-564e-459d-863c-4d13b4d06fb1",
   "metadata": {},
   "outputs": [],
   "source": [
    "df = spark.read.csv(\"file:///home/jovyan/work/customers.csv\", header=True, inferSchema=True)"
   ]
  },
  {
   "cell_type": "code",
   "execution_count": 9,
   "id": "2fa1cd26-14c1-4877-afa8-581321e35de9",
   "metadata": {},
   "outputs": [
    {
     "name": "stdout",
     "output_type": "stream",
     "text": [
      "+------+----------+--------------------+------+---------------+-----------+-----+------------+---------------+---------------+\n",
      "| First|      Last|               Email|Gender|Last IP Address|       City|State|Total Orders|Total Purchased|Months Customer|\n",
      "+------+----------+--------------------+------+---------------+-----------+-----+------------+---------------+---------------+\n",
      "|    Al|    Fresco|  afresco@dayrep.com|     M|  74.111.18.161|   Syracuse|   NY|           1|             45|              1|\n",
      "|  Abby|      Kuss|     akuss@rhyta.com|     F|  23.80.125.101|    Phoenix|   AZ|           1|             25|              2|\n",
      "| Arial|     Photo|   aphoto@dayrep.com|     F|     24.0.14.56|     Newark|   NJ|           1|            680|              1|\n",
      "| Bette|     Alott|    balott@rhyta.com|     F| 56.216.127.219|    Raleigh|   NC|           6|            560|             18|\n",
      "| Barb |    Barion|bbarion@superrito...|     F|   38.68.15.223|     Dallas|   TX|           4|           1590|              1|\n",
      "| Barry|DeHatchett|bdehatchett@dayre...|     M|  23.192.215.78|     Boston|   MA|           1|             15|              6|\n",
      "|  Bill|   Melator| bmelator@einrot.com|     M|   24.11.125.10|       Orem|   UT|           9|           6090|             35|\n",
      "| Candi|     Cayne|    ccayne@rhyta.com|     F|    24.39.14.15|   Portland|   ME|           1|            620|              2|\n",
      "| Carol|      Ling| cling@superrito.com|     F|  23.180.242.66|   Syracuse|   NY|           2|            440|              6|\n",
      "|   Cam|       Rha|     crha@einrot.com|     M|    24.1.25.140|    Chicago|   IL|           0|              0|              1|\n",
      "|   Dan|   Delyons| ddelyons@dayrep.com|     M|  24.38.224.161|  Greenwich|   CT|           2|           2570|             10|\n",
      "|  Erin|   Detyers| edetyers@dayrep.com|     F|   70.209.14.54|      Tampa|   FL|           5|           1105|             38|\n",
      "| Euron| Tasomthin|etasomthin@superr...|     M|  68.199.40.156|  Hempstead|   NY|          13|           4630|             28|\n",
      "|Justin|      Case|    jcase@dayrep.com|     M|  23.192.215.44|     Boston|   MA|           3|           1050|              1|\n",
      "|  Jean|     Poole|   jpoole@dayrep.com|     F|   23.182.25.40|   Kingston|   NY|           7|            185|             12|\n",
      "|   Lee|  Hvmeehom|lhvmeehom@einrot.com|     F|    215.82.23.2|   Columbus|   OH|           9|            207|             18|\n",
      "|  Lisa|Karfurless|lkarfurless@dayre...|     F|  172.189.252.8|    Fairfax|   VA|           6|            250|             27|\n",
      "|  Mary|   Melator|  mmelator@rhyta.com|     F|     23.88.15.5|Los Angeles|   CA|           8|           4275|             40|\n",
      "|  Mike|    Rofone|  mrofone@dayrep.com|     M|   23.224.160.4|   Cheyenne|   WY|           0|              0|              0|\n",
      "|  Oren|   Jouglad| ojouglad@einrot.com|     M|128.122.140.238|   New York|   NY|          12|           4500|             36|\n",
      "+------+----------+--------------------+------+---------------+-----------+-----+------------+---------------+---------------+\n",
      "only showing top 20 rows\n",
      "\n"
     ]
    }
   ],
   "source": [
    "df.show()"
   ]
  },
  {
   "cell_type": "code",
   "execution_count": null,
   "id": "6fa89a66-60d9-473e-a225-06b0c6fb0b48",
   "metadata": {},
   "outputs": [],
   "source": []
  }
 ],
 "metadata": {
  "kernelspec": {
   "display_name": "Python 3 (ipykernel)",
   "language": "python",
   "name": "python3"
  },
  "language_info": {
   "codemirror_mode": {
    "name": "ipython",
    "version": 3
   },
   "file_extension": ".py",
   "mimetype": "text/x-python",
   "name": "python",
   "nbconvert_exporter": "python",
   "pygments_lexer": "ipython3",
   "version": "3.11.7"
  }
 },
 "nbformat": 4,
 "nbformat_minor": 5
}
